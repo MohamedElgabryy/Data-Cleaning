{
 "cells": [
  {
   "cell_type": "markdown",
   "id": "d7e8b9e2",
   "metadata": {
    "papermill": {
     "duration": 0.005658,
     "end_time": "2023-01-28T16:30:40.098452",
     "exception": false,
     "start_time": "2023-01-28T16:30:40.092794",
     "status": "completed"
    },
    "tags": []
   },
   "source": [
    "**This notebook is an exercise in the [Data Cleaning](https://www.kaggle.com/learn/data-cleaning) course.  You can reference the tutorial at [this link](https://www.kaggle.com/alexisbcook/character-encodings).**\n",
    "\n",
    "---\n"
   ]
  },
  {
   "cell_type": "markdown",
   "id": "e593597b",
   "metadata": {
    "papermill": {
     "duration": 0.004077,
     "end_time": "2023-01-28T16:30:40.107204",
     "exception": false,
     "start_time": "2023-01-28T16:30:40.103127",
     "status": "completed"
    },
    "tags": []
   },
   "source": [
    "In this exercise, you'll apply what you learned in the **Character encodings** tutorial.\n",
    "\n",
    "# Setup\n",
    "\n",
    "The questions below will give you feedback on your work. Run the following cell to set up the feedback system."
   ]
  },
  {
   "cell_type": "code",
   "execution_count": 1,
   "id": "b33c55a3",
   "metadata": {
    "execution": {
     "iopub.execute_input": "2023-01-28T16:30:40.118283Z",
     "iopub.status.busy": "2023-01-28T16:30:40.117481Z",
     "iopub.status.idle": "2023-01-28T16:30:40.198317Z",
     "shell.execute_reply": "2023-01-28T16:30:40.196937Z"
    },
    "papermill": {
     "duration": 0.090261,
     "end_time": "2023-01-28T16:30:40.201758",
     "exception": false,
     "start_time": "2023-01-28T16:30:40.111497",
     "status": "completed"
    },
    "tags": []
   },
   "outputs": [
    {
     "name": "stdout",
     "output_type": "stream",
     "text": [
      "Setup Complete\n"
     ]
    }
   ],
   "source": [
    "from learntools.core import binder\n",
    "binder.bind(globals())\n",
    "from learntools.data_cleaning.ex4 import *\n",
    "print(\"Setup Complete\")"
   ]
  },
  {
   "cell_type": "markdown",
   "id": "14fe87f9",
   "metadata": {
    "papermill": {
     "duration": 0.004464,
     "end_time": "2023-01-28T16:30:40.211526",
     "exception": false,
     "start_time": "2023-01-28T16:30:40.207062",
     "status": "completed"
    },
    "tags": []
   },
   "source": [
    "# Get our environment set up\n",
    "\n",
    "The first thing we'll need to do is load in the libraries we'll be using."
   ]
  },
  {
   "cell_type": "code",
   "execution_count": 2,
   "id": "7821758b",
   "metadata": {
    "execution": {
     "iopub.execute_input": "2023-01-28T16:30:40.222492Z",
     "iopub.status.busy": "2023-01-28T16:30:40.221808Z",
     "iopub.status.idle": "2023-01-28T16:30:40.226559Z",
     "shell.execute_reply": "2023-01-28T16:30:40.225468Z"
    },
    "papermill": {
     "duration": 0.013002,
     "end_time": "2023-01-28T16:30:40.229036",
     "exception": false,
     "start_time": "2023-01-28T16:30:40.216034",
     "status": "completed"
    },
    "tags": []
   },
   "outputs": [],
   "source": [
    "# modules we'll use\n",
    "import pandas as pd\n",
    "import numpy as np\n",
    "\n",
    "# helpful character encoding module\n",
    "import chardet\n",
    "\n",
    "# set seed for reproducibility\n",
    "np.random.seed(0)"
   ]
  },
  {
   "cell_type": "markdown",
   "id": "42f2f8cf",
   "metadata": {
    "papermill": {
     "duration": 0.004243,
     "end_time": "2023-01-28T16:30:40.237750",
     "exception": false,
     "start_time": "2023-01-28T16:30:40.233507",
     "status": "completed"
    },
    "tags": []
   },
   "source": [
    "# 1) What are encodings?\n",
    "\n",
    "You're working with a dataset composed of bytes.  Run the code cell below to print a sample entry."
   ]
  },
  {
   "cell_type": "code",
   "execution_count": 3,
   "id": "2b411c4f",
   "metadata": {
    "execution": {
     "iopub.execute_input": "2023-01-28T16:30:40.248781Z",
     "iopub.status.busy": "2023-01-28T16:30:40.248078Z",
     "iopub.status.idle": "2023-01-28T16:30:40.254684Z",
     "shell.execute_reply": "2023-01-28T16:30:40.253268Z"
    },
    "papermill": {
     "duration": 0.015046,
     "end_time": "2023-01-28T16:30:40.257226",
     "exception": false,
     "start_time": "2023-01-28T16:30:40.242180",
     "status": "completed"
    },
    "tags": []
   },
   "outputs": [
    {
     "name": "stdout",
     "output_type": "stream",
     "text": [
      "b'\\xa7A\\xa6n'\n",
      "data type: <class 'bytes'>\n"
     ]
    }
   ],
   "source": [
    "sample_entry = b'\\xa7A\\xa6n'\n",
    "print(sample_entry)\n",
    "print('data type:', type(sample_entry))"
   ]
  },
  {
   "cell_type": "markdown",
   "id": "433d277c",
   "metadata": {
    "papermill": {
     "duration": 0.004376,
     "end_time": "2023-01-28T16:30:40.266333",
     "exception": false,
     "start_time": "2023-01-28T16:30:40.261957",
     "status": "completed"
    },
    "tags": []
   },
   "source": [
    "You notice that it doesn't use the standard UTF-8 encoding. \n",
    "\n",
    "Use the next code cell to create a variable `new_entry` that changes the encoding from `\"big5-tw\"` to `\"utf-8\"`.  `new_entry` should have the bytes datatype."
   ]
  },
  {
   "cell_type": "code",
   "execution_count": 4,
   "id": "e15f26f8",
   "metadata": {
    "execution": {
     "iopub.execute_input": "2023-01-28T16:30:40.277710Z",
     "iopub.status.busy": "2023-01-28T16:30:40.277300Z",
     "iopub.status.idle": "2023-01-28T16:30:40.290753Z",
     "shell.execute_reply": "2023-01-28T16:30:40.289231Z"
    },
    "papermill": {
     "duration": 0.022344,
     "end_time": "2023-01-28T16:30:40.293234",
     "exception": false,
     "start_time": "2023-01-28T16:30:40.270890",
     "status": "completed"
    },
    "tags": []
   },
   "outputs": [
    {
     "name": "stdout",
     "output_type": "stream",
     "text": [
      "b'\\xe4\\xbd\\xa0\\xe5\\xa5\\xbd'\n",
      "<class 'bytes'>\n"
     ]
    },
    {
     "data": {
      "application/javascript": [
       "parent.postMessage({\"jupyterEvent\": \"custom.exercise_interaction\", \"data\": {\"outcomeType\": 1, \"valueTowardsCompletion\": 0.3333333333333333, \"interactionType\": 1, \"questionType\": 1, \"questionId\": \"1_EncodingsIntro\", \"learnToolsVersion\": \"0.3.4\", \"failureMessage\": \"\", \"exceptionClass\": \"\", \"trace\": \"\"}}, \"*\")"
      ],
      "text/plain": [
       "<IPython.core.display.Javascript object>"
      ]
     },
     "metadata": {},
     "output_type": "display_data"
    },
    {
     "data": {
      "text/markdown": [
       "<span style=\"color:#33cc33\">Correct</span>"
      ],
      "text/plain": [
       "Correct"
      ]
     },
     "metadata": {},
     "output_type": "display_data"
    }
   ],
   "source": [
    "before = sample_entry.decode(\"big5-tw\")\n",
    "\n",
    "new_entry = before.encode(\"utf-8\")\n",
    "\n",
    "print(new_entry)\n",
    "print(type(new_entry))\n",
    "\n",
    "# Check your answer\n",
    "q1.check()"
   ]
  },
  {
   "cell_type": "code",
   "execution_count": 5,
   "id": "f03e476e",
   "metadata": {
    "execution": {
     "iopub.execute_input": "2023-01-28T16:30:40.304784Z",
     "iopub.status.busy": "2023-01-28T16:30:40.304388Z",
     "iopub.status.idle": "2023-01-28T16:30:40.317603Z",
     "shell.execute_reply": "2023-01-28T16:30:40.316679Z"
    },
    "papermill": {
     "duration": 0.021488,
     "end_time": "2023-01-28T16:30:40.319701",
     "exception": false,
     "start_time": "2023-01-28T16:30:40.298213",
     "status": "completed"
    },
    "tags": []
   },
   "outputs": [
    {
     "data": {
      "application/javascript": [
       "parent.postMessage({\"jupyterEvent\": \"custom.exercise_interaction\", \"data\": {\"interactionType\": 2, \"questionType\": 1, \"questionId\": \"1_EncodingsIntro\", \"learnToolsVersion\": \"0.3.4\", \"valueTowardsCompletion\": 0.0, \"failureMessage\": \"\", \"exceptionClass\": \"\", \"trace\": \"\", \"outcomeType\": 4}}, \"*\")"
      ],
      "text/plain": [
       "<IPython.core.display.Javascript object>"
      ]
     },
     "metadata": {},
     "output_type": "display_data"
    },
    {
     "data": {
      "text/markdown": [
       "<span style=\"color:#3366cc\">Hint:</span> Try using `.decode()` to get the string, then `.encode()` to get the bytes representation, encoded in UTF-8."
      ],
      "text/plain": [
       "Hint: Try using `.decode()` to get the string, then `.encode()` to get the bytes representation, encoded in UTF-8."
      ]
     },
     "metadata": {},
     "output_type": "display_data"
    },
    {
     "data": {
      "application/javascript": [
       "parent.postMessage({\"jupyterEvent\": \"custom.exercise_interaction\", \"data\": {\"interactionType\": 3, \"questionType\": 1, \"questionId\": \"1_EncodingsIntro\", \"learnToolsVersion\": \"0.3.4\", \"valueTowardsCompletion\": 0.0, \"failureMessage\": \"\", \"exceptionClass\": \"\", \"trace\": \"\", \"outcomeType\": 4}}, \"*\")"
      ],
      "text/plain": [
       "<IPython.core.display.Javascript object>"
      ]
     },
     "metadata": {},
     "output_type": "display_data"
    },
    {
     "data": {
      "text/markdown": [
       "<span style=\"color:#33cc99\">Solution:</span> \n",
       "```python\n",
       "before = sample_entry.decode(\"big5-tw\")\n",
       "new_entry = before.encode()\n",
       "\n",
       "```"
      ],
      "text/plain": [
       "Solution: \n",
       "```python\n",
       "before = sample_entry.decode(\"big5-tw\")\n",
       "new_entry = before.encode()\n",
       "\n",
       "```"
      ]
     },
     "metadata": {},
     "output_type": "display_data"
    }
   ],
   "source": [
    "# Lines below will give you a hint or solution code\n",
    "q1.hint()\n",
    "q1.solution()"
   ]
  },
  {
   "cell_type": "markdown",
   "id": "b03f3fc3",
   "metadata": {
    "papermill": {
     "duration": 0.005175,
     "end_time": "2023-01-28T16:30:40.330322",
     "exception": false,
     "start_time": "2023-01-28T16:30:40.325147",
     "status": "completed"
    },
    "tags": []
   },
   "source": [
    "# 2) Reading in files with encoding problems\n",
    "\n",
    "Use the code cell below to read in this file at path `\"../input/fatal-police-shootings-in-the-us/PoliceKillingsUS.csv\"`.  \n",
    "\n",
    "Figure out what the correct encoding should be and read in the file to a DataFrame `police_killings`."
   ]
  },
  {
   "cell_type": "code",
   "execution_count": 6,
   "id": "8acc1da7",
   "metadata": {
    "execution": {
     "iopub.execute_input": "2023-01-28T16:30:40.343515Z",
     "iopub.status.busy": "2023-01-28T16:30:40.342446Z",
     "iopub.status.idle": "2023-01-28T16:30:40.368818Z",
     "shell.execute_reply": "2023-01-28T16:30:40.367683Z"
    },
    "papermill": {
     "duration": 0.035611,
     "end_time": "2023-01-28T16:30:40.371279",
     "exception": false,
     "start_time": "2023-01-28T16:30:40.335668",
     "status": "completed"
    },
    "tags": []
   },
   "outputs": [
    {
     "data": {
      "application/javascript": [
       "parent.postMessage({\"jupyterEvent\": \"custom.exercise_interaction\", \"data\": {\"outcomeType\": 1, \"valueTowardsCompletion\": 0.3333333333333333, \"interactionType\": 1, \"questionType\": 1, \"questionId\": \"2_ReadIn\", \"learnToolsVersion\": \"0.3.4\", \"failureMessage\": \"\", \"exceptionClass\": \"\", \"trace\": \"\"}}, \"*\")"
      ],
      "text/plain": [
       "<IPython.core.display.Javascript object>"
      ]
     },
     "metadata": {},
     "output_type": "display_data"
    },
    {
     "data": {
      "text/markdown": [
       "<span style=\"color:#33cc33\">Correct</span>"
      ],
      "text/plain": [
       "Correct"
      ]
     },
     "metadata": {},
     "output_type": "display_data"
    }
   ],
   "source": [
    "# TODO: Load in the DataFrame correctly.\n",
    "\n",
    "police_killings = pd.read_csv(\"../input/fatal-police-shootings-in-the-us/PoliceKillingsUS.csv\", encoding='Windows-1252')\n",
    "\n",
    "# Check your answer\n",
    "q2.check()"
   ]
  },
  {
   "cell_type": "markdown",
   "id": "b4389de7",
   "metadata": {
    "papermill": {
     "duration": 0.005329,
     "end_time": "2023-01-28T16:30:40.382288",
     "exception": false,
     "start_time": "2023-01-28T16:30:40.376959",
     "status": "completed"
    },
    "tags": []
   },
   "source": [
    "Feel free to use any additional code cells for supplemental work.  To get credit for finishing this question, you'll need to run `q2.check()` and get a result of **Correct**."
   ]
  },
  {
   "cell_type": "code",
   "execution_count": 7,
   "id": "4045e58f",
   "metadata": {
    "execution": {
     "iopub.execute_input": "2023-01-28T16:30:40.395735Z",
     "iopub.status.busy": "2023-01-28T16:30:40.394894Z",
     "iopub.status.idle": "2023-01-28T16:30:41.960342Z",
     "shell.execute_reply": "2023-01-28T16:30:41.959011Z"
    },
    "papermill": {
     "duration": 1.574751,
     "end_time": "2023-01-28T16:30:41.962779",
     "exception": false,
     "start_time": "2023-01-28T16:30:40.388028",
     "status": "completed"
    },
    "tags": []
   },
   "outputs": [
    {
     "name": "stdout",
     "output_type": "stream",
     "text": [
      "{'encoding': 'Windows-1252', 'confidence': 0.73, 'language': ''}\n"
     ]
    }
   ],
   "source": [
    "with open(\"../input/fatal-police-shootings-in-the-us/PoliceKillingsUS.csv\", 'rb') as rawdata:\n",
    "    result = chardet.detect(rawdata.read(100000))\n",
    "print(result) "
   ]
  },
  {
   "cell_type": "code",
   "execution_count": 8,
   "id": "df920c6b",
   "metadata": {
    "execution": {
     "iopub.execute_input": "2023-01-28T16:30:41.976146Z",
     "iopub.status.busy": "2023-01-28T16:30:41.975726Z",
     "iopub.status.idle": "2023-01-28T16:30:41.981041Z",
     "shell.execute_reply": "2023-01-28T16:30:41.979919Z"
    },
    "papermill": {
     "duration": 0.014372,
     "end_time": "2023-01-28T16:30:41.983245",
     "exception": false,
     "start_time": "2023-01-28T16:30:41.968873",
     "status": "completed"
    },
    "tags": []
   },
   "outputs": [],
   "source": [
    "# Lines below will give you a hint or solution code\n",
    "#q2.hint()\n",
    "#q2.solution()"
   ]
  },
  {
   "cell_type": "markdown",
   "id": "cf32a487",
   "metadata": {
    "papermill": {
     "duration": 0.005333,
     "end_time": "2023-01-28T16:30:41.994374",
     "exception": false,
     "start_time": "2023-01-28T16:30:41.989041",
     "status": "completed"
    },
    "tags": []
   },
   "source": [
    "# 3) Saving your files with UTF-8 encoding\n",
    "\n",
    "Save a version of the police killings dataset to CSV with UTF-8 encoding.  Your answer will be marked correct after saving this file.  \n",
    "\n",
    "Note: When using the `to_csv()` method, supply only the name of the file (e.g., `\"my_file.csv\"`).  This saves the file at the filepath `\"/kaggle/working/my_file.csv\"`."
   ]
  },
  {
   "cell_type": "code",
   "execution_count": 9,
   "id": "67e5542b",
   "metadata": {
    "execution": {
     "iopub.execute_input": "2023-01-28T16:30:42.007208Z",
     "iopub.status.busy": "2023-01-28T16:30:42.006750Z",
     "iopub.status.idle": "2023-01-28T16:30:42.049680Z",
     "shell.execute_reply": "2023-01-28T16:30:42.047920Z"
    },
    "papermill": {
     "duration": 0.052719,
     "end_time": "2023-01-28T16:30:42.052647",
     "exception": false,
     "start_time": "2023-01-28T16:30:41.999928",
     "status": "completed"
    },
    "tags": []
   },
   "outputs": [
    {
     "data": {
      "application/javascript": [
       "parent.postMessage({\"jupyterEvent\": \"custom.exercise_interaction\", \"data\": {\"outcomeType\": 1, \"valueTowardsCompletion\": 0.3333333333333333, \"interactionType\": 1, \"questionType\": 2, \"questionId\": \"3_SaveCSV\", \"learnToolsVersion\": \"0.3.4\", \"failureMessage\": \"\", \"exceptionClass\": \"\", \"trace\": \"\"}}, \"*\")"
      ],
      "text/plain": [
       "<IPython.core.display.Javascript object>"
      ]
     },
     "metadata": {},
     "output_type": "display_data"
    },
    {
     "data": {
      "text/markdown": [
       "<span style=\"color:#33cc33\">Correct</span>"
      ],
      "text/plain": [
       "Correct"
      ]
     },
     "metadata": {},
     "output_type": "display_data"
    }
   ],
   "source": [
    "# TODO: Save the police killings dataset to CSV\n",
    "police_killings.to_csv(\"PoliceKillingsUS-utf8.csv\")\n",
    "\n",
    "# Check your answer\n",
    "q3.check()"
   ]
  },
  {
   "cell_type": "code",
   "execution_count": 10,
   "id": "dde0b243",
   "metadata": {
    "execution": {
     "iopub.execute_input": "2023-01-28T16:30:42.071340Z",
     "iopub.status.busy": "2023-01-28T16:30:42.070954Z",
     "iopub.status.idle": "2023-01-28T16:30:42.075811Z",
     "shell.execute_reply": "2023-01-28T16:30:42.074664Z"
    },
    "papermill": {
     "duration": 0.016534,
     "end_time": "2023-01-28T16:30:42.078904",
     "exception": false,
     "start_time": "2023-01-28T16:30:42.062370",
     "status": "completed"
    },
    "tags": []
   },
   "outputs": [],
   "source": [
    "# Lines below will give you a hint or solution code\n",
    "#q3.hint()\n",
    "#q3.solution()"
   ]
  },
  {
   "cell_type": "markdown",
   "id": "a22ec0bc",
   "metadata": {
    "papermill": {
     "duration": 0.007417,
     "end_time": "2023-01-28T16:30:42.093716",
     "exception": false,
     "start_time": "2023-01-28T16:30:42.086299",
     "status": "completed"
    },
    "tags": []
   },
   "source": [
    "# (Optional) More practice\n",
    "\n",
    "Check out [this dataset of files in different character encodings](https://www.kaggle.com/rtatman/character-encoding-examples). Can you read in all the files with their original encodings and them save them out as UTF-8 files?\n",
    "\n",
    "If you have a file that's in UTF-8 but has just a couple of weird-looking characters in it, you can try out the [ftfy module](https://ftfy.readthedocs.io/en/latest/#) and see if it helps. \n",
    "\n",
    "# Keep going\n",
    "\n",
    "In the final lesson, learn how to [**clean up inconsistent text entries**](https://www.kaggle.com/alexisbcook/inconsistent-data-entry) in your dataset."
   ]
  },
  {
   "cell_type": "markdown",
   "id": "60bf5049",
   "metadata": {
    "papermill": {
     "duration": 0.005784,
     "end_time": "2023-01-28T16:30:42.108130",
     "exception": false,
     "start_time": "2023-01-28T16:30:42.102346",
     "status": "completed"
    },
    "tags": []
   },
   "source": [
    "---\n",
    "\n",
    "\n",
    "\n",
    "\n",
    "*Have questions or comments? Visit the [course discussion forum](https://www.kaggle.com/learn/data-cleaning/discussion) to chat with other learners.*"
   ]
  }
 ],
 "metadata": {
  "kernelspec": {
   "display_name": "Python 3",
   "language": "python",
   "name": "python3"
  },
  "language_info": {
   "codemirror_mode": {
    "name": "ipython",
    "version": 3
   },
   "file_extension": ".py",
   "mimetype": "text/x-python",
   "name": "python",
   "nbconvert_exporter": "python",
   "pygments_lexer": "ipython3",
   "version": "3.7.12"
  },
  "papermill": {
   "default_parameters": {},
   "duration": 11.014851,
   "end_time": "2023-01-28T16:30:42.735059",
   "environment_variables": {},
   "exception": null,
   "input_path": "__notebook__.ipynb",
   "output_path": "__notebook__.ipynb",
   "parameters": {},
   "start_time": "2023-01-28T16:30:31.720208",
   "version": "2.3.4"
  }
 },
 "nbformat": 4,
 "nbformat_minor": 5
}
